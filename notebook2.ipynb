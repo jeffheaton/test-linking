{
 "cells": [
  {
   "cell_type": "markdown",
   "id": "da0a8608",
   "metadata": {},
   "source": [
    "# This is Notebook 2\n",
    "\n",
    "* [Link to Notebook 1a](notebook1.ipynb)\n",
    "* [Link to Notebook 1b](./notebook1.ipynb)"
   ]
  },
  {
   "cell_type": "code",
   "execution_count": null,
   "id": "25c61bf1",
   "metadata": {},
   "outputs": [],
   "source": []
  }
 ],
 "metadata": {
  "kernelspec": {
   "display_name": "Python 3.9 (tensorflow)",
   "language": "python",
   "name": "tensorflow"
  },
  "language_info": {
   "codemirror_mode": {
    "name": "ipython",
    "version": 3
   },
   "file_extension": ".py",
   "mimetype": "text/x-python",
   "name": "python",
   "nbconvert_exporter": "python",
   "pygments_lexer": "ipython3",
   "version": "3.9.7"
  }
 },
 "nbformat": 4,
 "nbformat_minor": 5
}
